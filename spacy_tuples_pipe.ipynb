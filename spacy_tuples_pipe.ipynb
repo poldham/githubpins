{
  "nbformat": 4,
  "nbformat_minor": 0,
  "metadata": {
    "colab": {
      "name": "spacy_tuples_pipe.ipynb",
      "provenance": [],
      "mount_file_id": "1JH8KNz6G3_KOG54lMCIuSuj12yW2kVr1",
      "authorship_tag": "ABX9TyMUhHlQdQKmboLBt+OdNvfs",
      "include_colab_link": true
    },
    "kernelspec": {
      "name": "python3",
      "display_name": "Python 3"
    }
  },
  "cells": [
    {
      "cell_type": "markdown",
      "metadata": {
        "id": "view-in-github",
        "colab_type": "text"
      },
      "source": [
        "<a href=\"https://colab.research.google.com/github/poldham/githubpins/blob/master/spacy_tuples_pipe.ipynb\" target=\"_parent\"><img src=\"https://colab.research.google.com/assets/colab-badge.svg\" alt=\"Open In Colab\"/></a>"
      ]
    },
    {
      "cell_type": "markdown",
      "metadata": {
        "id": "Cf-8nTkrfhJs",
        "colab_type": "text"
      },
      "source": [
        "# Load Google Drive"
      ]
    },
    {
      "cell_type": "code",
      "metadata": {
        "id": "CDqACt0xS1CO",
        "colab_type": "code",
        "colab": {
          "base_uri": "https://localhost:8080/",
          "height": 34
        },
        "outputId": "2666eb4f-6de9-4d73-ed66-54d0b89c8727"
      },
      "source": [
        "# best to load your Google Drive and save files created to /content\n",
        "from google.colab import drive\n",
        "drive.mount('/content/drive')"
      ],
      "execution_count": 1,
      "outputs": [
        {
          "output_type": "stream",
          "text": [
            "Drive already mounted at /content/drive; to attempt to forcibly remount, call drive.mount(\"/content/drive\", force_remount=True).\n"
          ],
          "name": "stdout"
        }
      ]
    },
    {
      "cell_type": "markdown",
      "metadata": {
        "id": "cMl60kRhesR8",
        "colab_type": "text"
      },
      "source": [
        "## Import Packages and Read in the Data"
      ]
    },
    {
      "cell_type": "code",
      "metadata": {
        "id": "JE1hRXthCQQB",
        "colab_type": "code",
        "colab": {}
      },
      "source": [
        "# uncomment if loading a larger model and update model reference in the next cell\n",
        "# TBD"
      ],
      "execution_count": null,
      "outputs": []
    },
    {
      "cell_type": "markdown",
      "metadata": {
        "id": "0YTAqg6xFyTr",
        "colab_type": "text"
      },
      "source": [
        "There are three datasets for the Bahamas:\n",
        "1. bahamas_100.csv with 100 records. Good for testing out approaches without taking any time to run [https://publicpins.blob.core.windows.net/bahamas/bahamas_100.csv](https://publicpins.blob.core.windows.net/bahamas/bahamas_100.csv)\n",
        "1. bahamas_small.csv with 1000 records (for slightly bigger experiments) [https://publicpins.blob.core.windows.net/bahamas/bahamas_small.csv](https://publicpins.blob.core.windows.net/bahamas/bahamas_small.csv)\n",
        "2. bahamas_texts.csv with 9600 texts as the working data at the moment [https://publicpins.blob.core.windows.net/bahamas/bahamas_texts.csv](https://publicpins.blob.core.windows.net/bahamas/bahamas_texts.csv)\n"
      ]
    },
    {
      "cell_type": "code",
      "metadata": {
        "id": "X7L7uFHMSstH",
        "colab_type": "code",
        "colab": {}
      },
      "source": [
        "import pandas as pd\n",
        "import spacy\n",
        "\n",
        "# load the mode\n",
        "\n",
        "nlp = spacy.load(\"en_core_web_sm\") # load the spacy model (use !pip install x for larger models in a separate cell before loading)\n",
        "\n",
        "df = pd.read_csv(\"https://publicpins.blob.core.windows.net/bahamas/bahamas_100.csv\", usecols=['text', 'id'])"
      ],
      "execution_count": 11,
      "outputs": []
    },
    {
      "cell_type": "code",
      "metadata": {
        "id": "wy-es2yHFmOZ",
        "colab_type": "code",
        "colab": {
          "base_uri": "https://localhost:8080/",
          "height": 204
        },
        "outputId": "86e00540-f17e-461c-f2b8-4ca62d5ad9a4"
      },
      "source": [
        "# take a look\n",
        "df.head()"
      ],
      "execution_count": 12,
      "outputs": [
        {
          "output_type": "execute_result",
          "data": {
            "text/html": [
              "<div>\n",
              "<style scoped>\n",
              "    .dataframe tbody tr th:only-of-type {\n",
              "        vertical-align: middle;\n",
              "    }\n",
              "\n",
              "    .dataframe tbody tr th {\n",
              "        vertical-align: top;\n",
              "    }\n",
              "\n",
              "    .dataframe thead th {\n",
              "        text-align: right;\n",
              "    }\n",
              "</style>\n",
              "<table border=\"1\" class=\"dataframe\">\n",
              "  <thead>\n",
              "    <tr style=\"text-align: right;\">\n",
              "      <th></th>\n",
              "      <th>text</th>\n",
              "      <th>id</th>\n",
              "    </tr>\n",
              "  </thead>\n",
              "  <tbody>\n",
              "    <tr>\n",
              "      <th>0</th>\n",
              "      <td>Gilmer Limestone: Oolite Tidal Bars on Sabine ...</td>\n",
              "      <td>000-020-923-889-687</td>\n",
              "    </tr>\n",
              "    <tr>\n",
              "      <th>1</th>\n",
              "      <td>Inshore and offshore bottlenose dolphin (Tursi...</td>\n",
              "      <td>000-032-304-114-733</td>\n",
              "    </tr>\n",
              "    <tr>\n",
              "      <th>2</th>\n",
              "      <td>Choice of Exchange Rate Regimes. The 20 econom...</td>\n",
              "      <td>000-034-137-084-029</td>\n",
              "    </tr>\n",
              "    <tr>\n",
              "      <th>3</th>\n",
              "      <td>The behavior and sensory biology of elasmobran...</td>\n",
              "      <td>000-043-479-729-303</td>\n",
              "    </tr>\n",
              "    <tr>\n",
              "      <th>4</th>\n",
              "      <td>Fluorescent epibiotic microbial community on t...</td>\n",
              "      <td>000-063-519-499-978</td>\n",
              "    </tr>\n",
              "  </tbody>\n",
              "</table>\n",
              "</div>"
            ],
            "text/plain": [
              "                                                text                   id\n",
              "0  Gilmer Limestone: Oolite Tidal Bars on Sabine ...  000-020-923-889-687\n",
              "1  Inshore and offshore bottlenose dolphin (Tursi...  000-032-304-114-733\n",
              "2  Choice of Exchange Rate Regimes. The 20 econom...  000-034-137-084-029\n",
              "3  The behavior and sensory biology of elasmobran...  000-043-479-729-303\n",
              "4  Fluorescent epibiotic microbial community on t...  000-063-519-499-978"
            ]
          },
          "metadata": {
            "tags": []
          },
          "execution_count": 12
        }
      ]
    },
    {
      "cell_type": "code",
      "metadata": {
        "id": "1-zL_JYpS6eH",
        "colab_type": "code",
        "colab": {
          "base_uri": "https://localhost:8080/",
          "height": 54
        },
        "outputId": "f163a98c-6496-44b6-fc1e-17e629930f89"
      },
      "source": [
        "# convert the df rows to tuples using pandas .itertuples\n",
        "# with \"meta\" as the context for the id\n",
        "\n",
        "tup = list(df.itertuples(index=False, name='meta'))\n",
        "\n",
        "print(tup[0])"
      ],
      "execution_count": 13,
      "outputs": [
        {
          "output_type": "stream",
          "text": [
            "meta(text='Gilmer Limestone: Oolite Tidal Bars on Sabine Uplift: ABSTRACT. Studies of cores, cuttings, and sample logs have shown that the Cotton Valley Limestone, also known as the \"Gilmer Limestone,\" consists of a linear belt of oolitic and pelletal grainstones and packstones along the margin of the Sabine uplift. This belt extends from Gilmer field in Upshur County southward at least as far as Overton field in Smith County. The oolite grainstone sequences with leached, \"chalky\" porosity are restricted to the north-south trend and are replaced by lime-muddy, nonporous rocks to the east and west. The high percentage of ooids, the abundant festoon and tabular cross-beds in the grainstone belt, and the linear-shoal anatomy of the unit suggest that the Gilmer Limestone is an ancient analog of the tidal bars in the modern Bahamas. The Gilmer grainstones formed as a series of submarine bars which accumulated in the shallow, agitated water along the flanks of a peninsular shoal (the Sabine uplift). Because the rocks formed as a series of tidal bars, local variations in thickness and lithic character are along the trend. The Gilmer Limestone reservoir exhibits \"chalky\" porosity that resulted from leaching during regressive cycles in the Cotton Valley. Oomoldic porosity and dolomite are rare to absent, and permeability is low because most of the voids are intragranular rather than intergranular. The leaching appears to have been most extensive along the tops of the thickest oolite shoals. End_of_Article - Last_Page 1674------------', id='000-020-923-889-687')\n"
          ],
          "name": "stdout"
        }
      ]
    },
    {
      "cell_type": "markdown",
      "metadata": {
        "id": "rGBpvOnHe5Vb",
        "colab_type": "text"
      },
      "source": [
        "# Create an Entities Dataset\n",
        "reference: [named entities](https://spacy.io/usage/linguistic-features#named-entities)"
      ]
    },
    {
      "cell_type": "code",
      "metadata": {
        "id": "a2VFeXbOTEr8",
        "colab_type": "code",
        "colab": {}
      },
      "source": [
        "# Create an empty list\n",
        "# use list(nlp.pipe()) method with as_tuples= True. iterate and retrieve entities\n",
        "# set batch size and n_process for parallel processing (outside of Colab)\n",
        "# write to file with pandas .from_records method\n",
        "\n",
        "entities = []\n",
        "\n",
        "for doc, context in list(nlp.pipe(tup, batch_size = 10, n_process = 7, as_tuples=True)):\n",
        "  for ent in doc.ents:\n",
        "    entities.append(\n",
        "        {\n",
        "        \"id\":context, \n",
        "        \"entity_text\":ent.text, \n",
        "        \"entity_label\":ent.label_, \n",
        "        \"entity_start\":ent.start_char, \n",
        "        \"entity_end\":ent.end_char\n",
        "        }\n",
        "    )\n",
        "\n",
        "entities_df = pd.DataFrame.from_records(entities)  "
      ],
      "execution_count": 15,
      "outputs": []
    },
    {
      "cell_type": "markdown",
      "metadata": {
        "id": "YCaeXI2VIyOp",
        "colab_type": "text"
      },
      "source": [
        "# Take a look at the entities\n",
        "Note that it is picking up entities but some of them are attributed incorrectly\n",
        "see the annotation scheme for the label interpretation [https://spacy.io/api/annotation#named-entities](https://spacy.io/api/annotation#named-entities)"
      ]
    },
    {
      "cell_type": "code",
      "metadata": {
        "id": "HRFqV-nqIUgE",
        "colab_type": "code",
        "colab": {
          "base_uri": "https://localhost:8080/",
          "height": 204
        },
        "outputId": "962da708-c832-4efb-c121-2cebd4296597"
      },
      "source": [
        "\n",
        "entities_df.head()"
      ],
      "execution_count": 17,
      "outputs": [
        {
          "output_type": "execute_result",
          "data": {
            "text/html": [
              "<div>\n",
              "<style scoped>\n",
              "    .dataframe tbody tr th:only-of-type {\n",
              "        vertical-align: middle;\n",
              "    }\n",
              "\n",
              "    .dataframe tbody tr th {\n",
              "        vertical-align: top;\n",
              "    }\n",
              "\n",
              "    .dataframe thead th {\n",
              "        text-align: right;\n",
              "    }\n",
              "</style>\n",
              "<table border=\"1\" class=\"dataframe\">\n",
              "  <thead>\n",
              "    <tr style=\"text-align: right;\">\n",
              "      <th></th>\n",
              "      <th>id</th>\n",
              "      <th>entity_text</th>\n",
              "      <th>entity_label</th>\n",
              "      <th>entity_start</th>\n",
              "      <th>entity_end</th>\n",
              "    </tr>\n",
              "  </thead>\n",
              "  <tbody>\n",
              "    <tr>\n",
              "      <th>0</th>\n",
              "      <td>000-020-923-889-687</td>\n",
              "      <td>the Cotton Valley Limestone</td>\n",
              "      <td>LOC</td>\n",
              "      <td>124</td>\n",
              "      <td>151</td>\n",
              "    </tr>\n",
              "    <tr>\n",
              "      <th>1</th>\n",
              "      <td>000-020-923-889-687</td>\n",
              "      <td>Sabine</td>\n",
              "      <td>PERSON</td>\n",
              "      <td>292</td>\n",
              "      <td>298</td>\n",
              "    </tr>\n",
              "    <tr>\n",
              "      <th>2</th>\n",
              "      <td>000-020-923-889-687</td>\n",
              "      <td>Gilmer</td>\n",
              "      <td>GPE</td>\n",
              "      <td>330</td>\n",
              "      <td>336</td>\n",
              "    </tr>\n",
              "    <tr>\n",
              "      <th>3</th>\n",
              "      <td>000-020-923-889-687</td>\n",
              "      <td>Upshur County</td>\n",
              "      <td>GPE</td>\n",
              "      <td>346</td>\n",
              "      <td>359</td>\n",
              "    </tr>\n",
              "    <tr>\n",
              "      <th>4</th>\n",
              "      <td>000-020-923-889-687</td>\n",
              "      <td>Overton</td>\n",
              "      <td>GPE</td>\n",
              "      <td>389</td>\n",
              "      <td>396</td>\n",
              "    </tr>\n",
              "  </tbody>\n",
              "</table>\n",
              "</div>"
            ],
            "text/plain": [
              "                    id                  entity_text  ... entity_start  entity_end\n",
              "0  000-020-923-889-687  the Cotton Valley Limestone  ...          124         151\n",
              "1  000-020-923-889-687                       Sabine  ...          292         298\n",
              "2  000-020-923-889-687                       Gilmer  ...          330         336\n",
              "3  000-020-923-889-687                Upshur County  ...          346         359\n",
              "4  000-020-923-889-687                      Overton  ...          389         396\n",
              "\n",
              "[5 rows x 5 columns]"
            ]
          },
          "metadata": {
            "tags": []
          },
          "execution_count": 17
        }
      ]
    },
    {
      "cell_type": "code",
      "metadata": {
        "id": "QUvTZOKhTur3",
        "colab_type": "code",
        "colab": {}
      },
      "source": [
        "# Write to csv\n",
        "entities_df.to_csv(\"entities_df.csv\")"
      ],
      "execution_count": null,
      "outputs": []
    },
    {
      "cell_type": "markdown",
      "metadata": {
        "id": "87KRfnhRdl_T",
        "colab_type": "text"
      },
      "source": [
        "# Create a Part of Speech (POS) Data Frame\n",
        "\n",
        "It is unclear that we will use this BUT it may become important for disambiguating names and refining match patterns later on. POS can take longer to run than anything else as it is word by word.\n",
        "\n",
        "reference: [linguistic annotations](https://spacy.io/usage/linguistic-features)\n"
      ]
    },
    {
      "cell_type": "code",
      "metadata": {
        "id": "hN60l-HLZI6z",
        "colab_type": "code",
        "colab": {}
      },
      "source": [
        "pos = []\n",
        "\n",
        "for doc, context in list(nlp.pipe(tup, batch_size = 10, n_process = 7, as_tuples=True)):\n",
        "  for token in doc:\n",
        "    pos.append(\n",
        "        {\n",
        "        \"id\":context,\n",
        "        \"token_text\":token.text,\n",
        "        \"token_lemma\":token.lemma_,\n",
        "        \"token_pos\":token.pos_,\n",
        "        \"token_tag\":token.tag_, \n",
        "        \"token_dep\":token.dep_, \n",
        "        \"token_shape\":token.shape_\n",
        "         }\n",
        "    )\n",
        "\n",
        "pos_df = pd.DataFrame.from_records(pos)    "
      ],
      "execution_count": 18,
      "outputs": []
    },
    {
      "cell_type": "code",
      "metadata": {
        "id": "rKEmSqLsZPxT",
        "colab_type": "code",
        "colab": {
          "base_uri": "https://localhost:8080/",
          "height": 204
        },
        "outputId": "5d324913-8444-4f7d-a5e1-1de2ef7b3419"
      },
      "source": [
        "pos_df.head()"
      ],
      "execution_count": 19,
      "outputs": [
        {
          "output_type": "execute_result",
          "data": {
            "text/html": [
              "<div>\n",
              "<style scoped>\n",
              "    .dataframe tbody tr th:only-of-type {\n",
              "        vertical-align: middle;\n",
              "    }\n",
              "\n",
              "    .dataframe tbody tr th {\n",
              "        vertical-align: top;\n",
              "    }\n",
              "\n",
              "    .dataframe thead th {\n",
              "        text-align: right;\n",
              "    }\n",
              "</style>\n",
              "<table border=\"1\" class=\"dataframe\">\n",
              "  <thead>\n",
              "    <tr style=\"text-align: right;\">\n",
              "      <th></th>\n",
              "      <th>id</th>\n",
              "      <th>token_text</th>\n",
              "      <th>token_lemma</th>\n",
              "      <th>token_pos</th>\n",
              "      <th>token_tag</th>\n",
              "      <th>token_dep</th>\n",
              "      <th>token_shape</th>\n",
              "    </tr>\n",
              "  </thead>\n",
              "  <tbody>\n",
              "    <tr>\n",
              "      <th>0</th>\n",
              "      <td>000-020-923-889-687</td>\n",
              "      <td>Gilmer</td>\n",
              "      <td>Gilmer</td>\n",
              "      <td>PROPN</td>\n",
              "      <td>NNP</td>\n",
              "      <td>compound</td>\n",
              "      <td>Xxxxx</td>\n",
              "    </tr>\n",
              "    <tr>\n",
              "      <th>1</th>\n",
              "      <td>000-020-923-889-687</td>\n",
              "      <td>Limestone</td>\n",
              "      <td>Limestone</td>\n",
              "      <td>PROPN</td>\n",
              "      <td>NNP</td>\n",
              "      <td>ROOT</td>\n",
              "      <td>Xxxxx</td>\n",
              "    </tr>\n",
              "    <tr>\n",
              "      <th>2</th>\n",
              "      <td>000-020-923-889-687</td>\n",
              "      <td>:</td>\n",
              "      <td>:</td>\n",
              "      <td>PUNCT</td>\n",
              "      <td>:</td>\n",
              "      <td>punct</td>\n",
              "      <td>:</td>\n",
              "    </tr>\n",
              "    <tr>\n",
              "      <th>3</th>\n",
              "      <td>000-020-923-889-687</td>\n",
              "      <td>Oolite</td>\n",
              "      <td>Oolite</td>\n",
              "      <td>PROPN</td>\n",
              "      <td>NNP</td>\n",
              "      <td>compound</td>\n",
              "      <td>Xxxxx</td>\n",
              "    </tr>\n",
              "    <tr>\n",
              "      <th>4</th>\n",
              "      <td>000-020-923-889-687</td>\n",
              "      <td>Tidal</td>\n",
              "      <td>Tidal</td>\n",
              "      <td>PROPN</td>\n",
              "      <td>NNP</td>\n",
              "      <td>compound</td>\n",
              "      <td>Xxxxx</td>\n",
              "    </tr>\n",
              "  </tbody>\n",
              "</table>\n",
              "</div>"
            ],
            "text/plain": [
              "                    id token_text token_lemma  ... token_tag token_dep token_shape\n",
              "0  000-020-923-889-687     Gilmer      Gilmer  ...       NNP  compound       Xxxxx\n",
              "1  000-020-923-889-687  Limestone   Limestone  ...       NNP      ROOT       Xxxxx\n",
              "2  000-020-923-889-687          :           :  ...         :     punct           :\n",
              "3  000-020-923-889-687     Oolite      Oolite  ...       NNP  compound       Xxxxx\n",
              "4  000-020-923-889-687      Tidal       Tidal  ...       NNP  compound       Xxxxx\n",
              "\n",
              "[5 rows x 7 columns]"
            ]
          },
          "metadata": {
            "tags": []
          },
          "execution_count": 19
        }
      ]
    },
    {
      "cell_type": "code",
      "metadata": {
        "id": "WgDTyFpCfPm9",
        "colab_type": "code",
        "colab": {}
      },
      "source": [
        "# write to csv\n",
        "\n",
        "pos_df.to_csv(\"pos_df.csv\")"
      ],
      "execution_count": null,
      "outputs": []
    }
  ]
}